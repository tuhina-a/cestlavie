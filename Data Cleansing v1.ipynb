{
 "cells": [
  {
   "cell_type": "code",
   "execution_count": null,
   "id": "fa96428b-551a-4625-957a-fa3bbaef385d",
   "metadata": {},
   "outputs": [],
   "source": [
    "# Tuhina working - 22/02 1645 hrs:\n",
    "\n",
    "import pandas as pd\n",
    "\n",
    "# Read Excel files into DataFrames\n",
    "df_us = pd.read_excel('../data/International_Financial_Statistics_ US.xlsx', index_col=0)\n",
    "df_fr = pd.read_excel('../data/International_Financial_Statistics_.xlsx', index_col=0)\n",
    "\n",
    "# Merge the DataFrames based on the index (first column) of each DataFrame\n",
    "merged_df = pd.merge(df_us, df_fr, left_index=True, right_index=True, how='inner')\n",
    "\n",
    "merged_df.to_excel('../data/output.xlsx')\n",
    "\n",
    "# Print the merged DataFrame\n",
    "print(merged_df)"

   
   ]
  }
 ],
 "metadata": {
  "kernelspec": {
   "display_name": "Python 3 (ipykernel)",
   "language": "python",
   "name": "python3"
  },
  "language_info": {
   "codemirror_mode": {
    "name": "ipython",
    "version": 3
   },
   "file_extension": ".py",
   "mimetype": "text/x-python",
   "name": "python",
   "nbconvert_exporter": "python",
   "pygments_lexer": "ipython3",
   "version": "3.12.2"
  }
 },
 "nbformat": 4,
 "nbformat_minor": 5
}


import pandas as pd

# (i) The monthly growth in the nominal exchange rate
merged_df['nominal_exchange_rate_growth'] = merged_df['Unnamed: 2_x'].pct_change() * 100

# (ii) The real exchange rate
merged_df['real_exchange_rate'] = merged_df['Unnamed: 3'] / merged_df['Unnamed: 2_y']

# (iii) The monthly growth in the real exchange rate
merged_df['real_exchange_rate_growth'] = merged_df['real_exchange_rate'].pct_change() * 100

# (iv) The monthly inflation rate
merged_df['monthly_inflation_rate'] = merged_df['Unnamed: 4'].pct_change() * 100

# (v) The monthly growth in industrial production
merged_df['industrial_production_growth'] = merged_df['Unnamed: 1_y'].pct_change() * 100

# (vi) The growth in industrial production versus 12 months ago
merged_df['industrial_production_vs_12_months_ago'] = merged_df['Unnamed: 1_y'].pct_change(12) * 100

# (vii) An index of the value of international reserves
merged_df['international_reserves_index'] = (merged_df['Unnamed: 1_x'] / merged_df['Unnamed: 1_x'].iloc[0]) * 100

# Display the resulting DataFrame with new variables
print(merged_df)
