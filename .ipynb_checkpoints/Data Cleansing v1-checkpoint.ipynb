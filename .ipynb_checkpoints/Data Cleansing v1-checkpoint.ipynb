{
 "cells": [
  {
   "cell_type": "code",
   "execution_count": 7,
   "id": "fa96428b-551a-4625-957a-fa3bbaef385d",
   "metadata": {},
   "outputs": [
    {
     "name": "stdout",
     "output_type": "stream",
     "text": [
      "                                                                               Unnamed: 1_x  \\\n",
      "International Financial Statistics (IFS)                                                      \n",
      "NaN                                       International Reserves and Liquidity, Reserves...   \n",
      "1960                                                                                19358.8   \n",
      "Jan 1960                                                                            21478.1   \n",
      "Feb 1960                                                                            21395.7   \n",
      "Mar 1960                                                                            21344.7   \n",
      "...                                                                                     ...   \n",
      "Aug 1990                                                                       78908.838357   \n",
      "Sep 1990                                                                       80024.166133   \n",
      "Oct 1990                                                                       82852.196532   \n",
      "Nov 1990                                                                       83059.402774   \n",
      "Dec 1990                                                                       83316.214608   \n",
      "\n",
      "                                                                            Unnamed: 2_x  \\\n",
      "International Financial Statistics (IFS)                                                   \n",
      "NaN                                       Prices, Consumer Price Index, All items, Index   \n",
      "1960                                                                           13.563061   \n",
      "Jan 1960                                                                       13.436946   \n",
      "Feb 1960                                                                       13.482806   \n",
      "Mar 1960                                                                       13.482806   \n",
      "...                                                                                  ...   \n",
      "Aug 1990                                                                       60.351608   \n",
      "Sep 1990                                                                       60.856066   \n",
      "Oct 1990                                                                       61.222946   \n",
      "Nov 1990                                                                       61.360525   \n",
      "Dec 1990                                                                       61.360525   \n",
      "\n",
      "                                                                             Unnamed: 1_y  \\\n",
      "International Financial Statistics (IFS)                                                    \n",
      "NaN                                       Economic Activity, Industrial Production, Index   \n",
      "1960                                                                            35.167312   \n",
      "Jan 1960                                                                        33.969593   \n",
      "Feb 1960                                                                        34.765516   \n",
      "Mar 1960                                                                        34.887965   \n",
      "...                                                                                   ...   \n",
      "Aug 1990                                                                        65.134036   \n",
      "Sep 1990                                                                        90.530334   \n",
      "Oct 1990                                                                        99.792514   \n",
      "Nov 1990                                                                        94.514068   \n",
      "Dec 1990                                                                        89.932775   \n",
      "\n",
      "                                                                               Unnamed: 2_y  \\\n",
      "International Financial Statistics (IFS)                                                      \n",
      "NaN                                       Exchange Rates, National Currency Per U.S. Dol...   \n",
      "1960                                                                                4.93706   \n",
      "Jan 1960                                                                            4.93706   \n",
      "Feb 1960                                                                            4.93706   \n",
      "Mar 1960                                                                            4.93706   \n",
      "...                                                                                     ...   \n",
      "Aug 1990                                                                             5.2731   \n",
      "Sep 1990                                                                             5.2575   \n",
      "Oct 1990                                                                              5.105   \n",
      "Nov 1990                                                                             5.0005   \n",
      "Dec 1990                                                                             5.0664   \n",
      "\n",
      "                                                                                 Unnamed: 3  \\\n",
      "International Financial Statistics (IFS)                                                      \n",
      "NaN                                       International Reserves and Liquidity, Reserves...   \n",
      "1960                                                                                2271.91   \n",
      "Jan 1960                                                                            1753.74   \n",
      "Feb 1960                                                                            1796.74   \n",
      "Mar 1960                                                                            1869.76   \n",
      "...                                                                                     ...   \n",
      "Aug 1990                                                                        58918.10618   \n",
      "Sep 1990                                                                       62161.006201   \n",
      "Oct 1990                                                                       64564.495082   \n",
      "Nov 1990                                                                        66533.60926   \n",
      "Dec 1990                                                                       68098.910213   \n",
      "\n",
      "                                                                              Unnamed: 4  \n",
      "International Financial Statistics (IFS)                                                  \n",
      "NaN                                       Prices, Consumer Price Index, All items, Index  \n",
      "1960                                                                           10.433593  \n",
      "Jan 1960                                                                       10.344146  \n",
      "Feb 1960                                                                       10.367998  \n",
      "Mar 1960                                                                       10.367998  \n",
      "...                                                                                  ...  \n",
      "Aug 1990                                                                       71.414243  \n",
      "Sep 1990                                                                       71.921026  \n",
      "Oct 1990                                                                       72.237766  \n",
      "Nov 1990                                                                       72.121628  \n",
      "Dec 1990                                                                       72.068838  \n",
      "\n",
      "[404 rows x 6 columns]\n"
     ]
    }
   ],
   "source": [
    "# Tuhina working - 22/02 1645 hrs:\n",
    "\n",
    "import pandas as pd\n",
    "\n",
    "# Read Excel files into DataFrames\n",
    "df_us = pd.read_excel('../data/International_Financial_Statistics_ US.xlsx', index_col=0)\n",
    "df_fr = pd.read_excel('../data/International_Financial_Statistics_.xlsx', index_col=0)\n",
    "\n",
    "# Merge the DataFrames based on the index (first column) of each DataFrame\n",
    "merged_df = pd.merge(df_us, df_fr, left_index=True, right_index=True, how='inner')\n",
    "\n",
    "merged_df.to_excel('../data/output.xlsx')\n",
    "\n",
    "# Print the merged DataFrame\n",
    "print(merged_df)"
   ]
  },
  {
   "cell_type": "code",
   "execution_count": null,
   "id": "0ad4105c",
   "metadata": {},
   "outputs": [],
   "source": []
  }
 ],
 "metadata": {
  "kernelspec": {
   "display_name": "Python 3 (ipykernel)",
   "language": "python",
   "name": "python3"
  },
  "language_info": {
   "codemirror_mode": {
    "name": "ipython",
    "version": 3
   },
   "file_extension": ".py",
   "mimetype": "text/x-python",
   "name": "python",
   "nbconvert_exporter": "python",
   "pygments_lexer": "ipython3",
   "version": "3.12.2"
  }
 },
 "nbformat": 4,
 "nbformat_minor": 5
}

import pandas as pd

# (i) The monthly growth in the nominal exchange rate
merged_df['nominal_exchange_rate_growth'] = merged_df['Unnamed: 2_x'].pct_change() * 100

# (ii) The real exchange rate
merged_df['real_exchange_rate'] = merged_df['Unnamed: 3'] / merged_df['Unnamed: 2_y']

# (iii) The monthly growth in the real exchange rate
merged_df['real_exchange_rate_growth'] = merged_df['real_exchange_rate'].pct_change() * 100

# (iv) The monthly inflation rate
merged_df['monthly_inflation_rate'] = merged_df['Unnamed: 4'].pct_change() * 100

# (v) The monthly growth in industrial production
merged_df['industrial_production_growth'] = merged_df['Unnamed: 1_y'].pct_change() * 100

# (vi) The growth in industrial production versus 12 months ago
merged_df['industrial_production_vs_12_months_ago'] = merged_df['Unnamed: 1_y'].pct_change(12) * 100

# (vii) An index of the value of international reserves
merged_df['international_reserves_index'] = (merged_df['Unnamed: 1_x'] / merged_df['Unnamed: 1_x'].iloc[0]) * 100

# Display the resulting DataFrame with new variables
print(merged_df)
