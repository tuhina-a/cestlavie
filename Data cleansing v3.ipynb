{
 "cells": [
  {
   "cell_type": "code",
   "execution_count": null,
   "metadata": {},
   "outputs": [],
   "source": [
    "import pandas as pd\n",
    "\n",
    "\n",
    "# Read Excel files into DataFrames\n",
    "df1 = pd.read_excel(r'C:\\Users\\tuhin\\cestlavie\\data\\International_Financial_Statistics_ US.xlsx', index_col=0)\n",
    "df2 = pd.read_excel(r'C:\\Users\\tuhin\\cestlavie\\data\\International_Financial_Statistics_.xlsx', index_col=0)\n",
    "\n",
    "# Merge the DataFrames based on the index (first column) of each DataFrame\n",
    "merged_df = pd.merge(df1, df2, left_index=True, right_index=True, how='inner')\n",
    "\n",
    "# Print the merged DataFrame\n",
    "merged_df = merged_df.applymap(pd.to_numeric, errors='coerce')\n",
    "print(merged_df)\n",
    "\n",
    "# (i) The monthly growth in the nominal exchange rate\n",
    "merged_df['nominal_exchange_rate_growth'] = merged_df['Unnamed: 2_x'].pct_change() * 100\n",
    "\n",
    "# (ii) The real exchange rate\n",
    "merged_df['real_exchange_rate'] = merged_df['Unnamed: 3'] / merged_df['Unnamed: 2_y']\n",
    "\n",
    "# (iii) The monthly growth in the real exchange rate\n",
    "merged_df['real_exchange_rate_growth'] = merged_df['real_exchange_rate'].pct_change() * 100\n",
    "\n",
    "# (iv) The monthly inflation rate\n",
    "merged_df['monthly_inflation_rate'] = merged_df['Unnamed: 4'].pct_change() * 100\n",
    "\n",
    "# (v) The monthly growth in industrial production\n",
    "merged_df['industrial_production_growth'] = merged_df['Unnamed: 1_y'].pct_change() * 100\n",
    "\n",
    "# (vi) The growth in industrial production versus 12 months ago\n",
    "merged_df['industrial_production_vs_12_months_ago'] = merged_df['Unnamed: 1_y'].pct_change(12) * 100\n",
    "\n",
    "# (vii) An index of the value of international reserves\n",
    "merged_df['international_reserves_index'] = (merged_df['Unnamed: 1_x'] / merged_df['Unnamed: 1_x'].iloc[0]) * 100\n",
    "\n",
    "# Display the resulting DataFrame with new variables\n",
    "print(merged_df)\n",
    "\n",
    "merged_df.to_excel(r'C:\\Users\\tuhin\\cestlavie\\data\\output2.xlsx')"
   ]
  }
 ],
 "metadata": {
  "language_info": {
   "name": "python"
  }
 },
 "nbformat": 4,
 "nbformat_minor": 2
}
